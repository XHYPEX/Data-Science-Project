{
 "cells": [
  {
   "cell_type": "code",
   "execution_count": 1,
   "metadata": {},
   "outputs": [],
   "source": [
    "import numpy as np\n",
    "import pandas as pd"
   ]
  },
  {
   "cell_type": "markdown",
   "metadata": {},
   "source": [
    "## Data Exploration"
   ]
  },
  {
   "cell_type": "code",
   "execution_count": 2,
   "metadata": {},
   "outputs": [],
   "source": [
    "df = pd.read_csv(\"Data/titanic_train.csv\")\n",
    "df_test = pd.read_csv(\"Data/titanic_test.csv\")"
   ]
  },
  {
   "cell_type": "code",
   "execution_count": 3,
   "metadata": {},
   "outputs": [
    {
     "data": {
      "text/html": [
       "<div>\n",
       "<style scoped>\n",
       "    .dataframe tbody tr th:only-of-type {\n",
       "        vertical-align: middle;\n",
       "    }\n",
       "\n",
       "    .dataframe tbody tr th {\n",
       "        vertical-align: top;\n",
       "    }\n",
       "\n",
       "    .dataframe thead th {\n",
       "        text-align: right;\n",
       "    }\n",
       "</style>\n",
       "<table border=\"1\" class=\"dataframe\">\n",
       "  <thead>\n",
       "    <tr style=\"text-align: right;\">\n",
       "      <th></th>\n",
       "      <th>PassengerId</th>\n",
       "      <th>Survived</th>\n",
       "      <th>Pclass</th>\n",
       "      <th>Name</th>\n",
       "      <th>Sex</th>\n",
       "      <th>Age</th>\n",
       "      <th>SibSp</th>\n",
       "      <th>Parch</th>\n",
       "      <th>Ticket</th>\n",
       "      <th>Fare</th>\n",
       "      <th>Cabin</th>\n",
       "      <th>Embarked</th>\n",
       "    </tr>\n",
       "  </thead>\n",
       "  <tbody>\n",
       "    <tr>\n",
       "      <th>0</th>\n",
       "      <td>1</td>\n",
       "      <td>0</td>\n",
       "      <td>3</td>\n",
       "      <td>Braund, Mr. Owen Harris</td>\n",
       "      <td>male</td>\n",
       "      <td>22.0</td>\n",
       "      <td>1</td>\n",
       "      <td>0</td>\n",
       "      <td>A/5 21171</td>\n",
       "      <td>7.2500</td>\n",
       "      <td>NaN</td>\n",
       "      <td>S</td>\n",
       "    </tr>\n",
       "    <tr>\n",
       "      <th>1</th>\n",
       "      <td>2</td>\n",
       "      <td>1</td>\n",
       "      <td>1</td>\n",
       "      <td>Cumings, Mrs. John Bradley (Florence Briggs Th...</td>\n",
       "      <td>female</td>\n",
       "      <td>38.0</td>\n",
       "      <td>1</td>\n",
       "      <td>0</td>\n",
       "      <td>PC 17599</td>\n",
       "      <td>71.2833</td>\n",
       "      <td>C85</td>\n",
       "      <td>C</td>\n",
       "    </tr>\n",
       "    <tr>\n",
       "      <th>2</th>\n",
       "      <td>3</td>\n",
       "      <td>1</td>\n",
       "      <td>3</td>\n",
       "      <td>Heikkinen, Miss. Laina</td>\n",
       "      <td>female</td>\n",
       "      <td>26.0</td>\n",
       "      <td>0</td>\n",
       "      <td>0</td>\n",
       "      <td>STON/O2. 3101282</td>\n",
       "      <td>7.9250</td>\n",
       "      <td>NaN</td>\n",
       "      <td>S</td>\n",
       "    </tr>\n",
       "    <tr>\n",
       "      <th>3</th>\n",
       "      <td>4</td>\n",
       "      <td>1</td>\n",
       "      <td>1</td>\n",
       "      <td>Futrelle, Mrs. Jacques Heath (Lily May Peel)</td>\n",
       "      <td>female</td>\n",
       "      <td>35.0</td>\n",
       "      <td>1</td>\n",
       "      <td>0</td>\n",
       "      <td>113803</td>\n",
       "      <td>53.1000</td>\n",
       "      <td>C123</td>\n",
       "      <td>S</td>\n",
       "    </tr>\n",
       "    <tr>\n",
       "      <th>4</th>\n",
       "      <td>5</td>\n",
       "      <td>0</td>\n",
       "      <td>3</td>\n",
       "      <td>Allen, Mr. William Henry</td>\n",
       "      <td>male</td>\n",
       "      <td>35.0</td>\n",
       "      <td>0</td>\n",
       "      <td>0</td>\n",
       "      <td>373450</td>\n",
       "      <td>8.0500</td>\n",
       "      <td>NaN</td>\n",
       "      <td>S</td>\n",
       "    </tr>\n",
       "  </tbody>\n",
       "</table>\n",
       "</div>"
      ],
      "text/plain": [
       "   PassengerId  Survived  Pclass  \\\n",
       "0            1         0       3   \n",
       "1            2         1       1   \n",
       "2            3         1       3   \n",
       "3            4         1       1   \n",
       "4            5         0       3   \n",
       "\n",
       "                                                Name     Sex   Age  SibSp  \\\n",
       "0                            Braund, Mr. Owen Harris    male  22.0      1   \n",
       "1  Cumings, Mrs. John Bradley (Florence Briggs Th...  female  38.0      1   \n",
       "2                             Heikkinen, Miss. Laina  female  26.0      0   \n",
       "3       Futrelle, Mrs. Jacques Heath (Lily May Peel)  female  35.0      1   \n",
       "4                           Allen, Mr. William Henry    male  35.0      0   \n",
       "\n",
       "   Parch            Ticket     Fare Cabin Embarked  \n",
       "0      0         A/5 21171   7.2500   NaN        S  \n",
       "1      0          PC 17599  71.2833   C85        C  \n",
       "2      0  STON/O2. 3101282   7.9250   NaN        S  \n",
       "3      0            113803  53.1000  C123        S  \n",
       "4      0            373450   8.0500   NaN        S  "
      ]
     },
     "execution_count": 3,
     "metadata": {},
     "output_type": "execute_result"
    }
   ],
   "source": [
    "df.head()"
   ]
  },
  {
   "cell_type": "code",
   "execution_count": 4,
   "metadata": {},
   "outputs": [
    {
     "name": "stdout",
     "output_type": "stream",
     "text": [
      "<class 'pandas.core.frame.DataFrame'>\n",
      "RangeIndex: 891 entries, 0 to 890\n",
      "Data columns (total 12 columns):\n",
      " #   Column       Non-Null Count  Dtype  \n",
      "---  ------       --------------  -----  \n",
      " 0   PassengerId  891 non-null    int64  \n",
      " 1   Survived     891 non-null    int64  \n",
      " 2   Pclass       891 non-null    int64  \n",
      " 3   Name         891 non-null    object \n",
      " 4   Sex          891 non-null    object \n",
      " 5   Age          714 non-null    float64\n",
      " 6   SibSp        891 non-null    int64  \n",
      " 7   Parch        891 non-null    int64  \n",
      " 8   Ticket       891 non-null    object \n",
      " 9   Fare         891 non-null    float64\n",
      " 10  Cabin        204 non-null    object \n",
      " 11  Embarked     889 non-null    object \n",
      "dtypes: float64(2), int64(5), object(5)\n",
      "memory usage: 83.7+ KB\n"
     ]
    }
   ],
   "source": [
    "df.info()"
   ]
  },
  {
   "cell_type": "code",
   "execution_count": 5,
   "metadata": {},
   "outputs": [
    {
     "data": {
      "text/html": [
       "<div>\n",
       "<style scoped>\n",
       "    .dataframe tbody tr th:only-of-type {\n",
       "        vertical-align: middle;\n",
       "    }\n",
       "\n",
       "    .dataframe tbody tr th {\n",
       "        vertical-align: top;\n",
       "    }\n",
       "\n",
       "    .dataframe thead th {\n",
       "        text-align: right;\n",
       "    }\n",
       "</style>\n",
       "<table border=\"1\" class=\"dataframe\">\n",
       "  <thead>\n",
       "    <tr style=\"text-align: right;\">\n",
       "      <th></th>\n",
       "      <th>PassengerId</th>\n",
       "      <th>Survived</th>\n",
       "      <th>Pclass</th>\n",
       "      <th>Age</th>\n",
       "      <th>SibSp</th>\n",
       "      <th>Parch</th>\n",
       "      <th>Fare</th>\n",
       "    </tr>\n",
       "  </thead>\n",
       "  <tbody>\n",
       "    <tr>\n",
       "      <th>count</th>\n",
       "      <td>891.000000</td>\n",
       "      <td>891.000000</td>\n",
       "      <td>891.000000</td>\n",
       "      <td>714.000000</td>\n",
       "      <td>891.000000</td>\n",
       "      <td>891.000000</td>\n",
       "      <td>891.000000</td>\n",
       "    </tr>\n",
       "    <tr>\n",
       "      <th>mean</th>\n",
       "      <td>446.000000</td>\n",
       "      <td>0.383838</td>\n",
       "      <td>2.308642</td>\n",
       "      <td>29.699118</td>\n",
       "      <td>0.523008</td>\n",
       "      <td>0.381594</td>\n",
       "      <td>32.204208</td>\n",
       "    </tr>\n",
       "    <tr>\n",
       "      <th>std</th>\n",
       "      <td>257.353842</td>\n",
       "      <td>0.486592</td>\n",
       "      <td>0.836071</td>\n",
       "      <td>14.526497</td>\n",
       "      <td>1.102743</td>\n",
       "      <td>0.806057</td>\n",
       "      <td>49.693429</td>\n",
       "    </tr>\n",
       "    <tr>\n",
       "      <th>min</th>\n",
       "      <td>1.000000</td>\n",
       "      <td>0.000000</td>\n",
       "      <td>1.000000</td>\n",
       "      <td>0.420000</td>\n",
       "      <td>0.000000</td>\n",
       "      <td>0.000000</td>\n",
       "      <td>0.000000</td>\n",
       "    </tr>\n",
       "    <tr>\n",
       "      <th>25%</th>\n",
       "      <td>223.500000</td>\n",
       "      <td>0.000000</td>\n",
       "      <td>2.000000</td>\n",
       "      <td>20.125000</td>\n",
       "      <td>0.000000</td>\n",
       "      <td>0.000000</td>\n",
       "      <td>7.910400</td>\n",
       "    </tr>\n",
       "    <tr>\n",
       "      <th>50%</th>\n",
       "      <td>446.000000</td>\n",
       "      <td>0.000000</td>\n",
       "      <td>3.000000</td>\n",
       "      <td>28.000000</td>\n",
       "      <td>0.000000</td>\n",
       "      <td>0.000000</td>\n",
       "      <td>14.454200</td>\n",
       "    </tr>\n",
       "    <tr>\n",
       "      <th>75%</th>\n",
       "      <td>668.500000</td>\n",
       "      <td>1.000000</td>\n",
       "      <td>3.000000</td>\n",
       "      <td>38.000000</td>\n",
       "      <td>1.000000</td>\n",
       "      <td>0.000000</td>\n",
       "      <td>31.000000</td>\n",
       "    </tr>\n",
       "    <tr>\n",
       "      <th>max</th>\n",
       "      <td>891.000000</td>\n",
       "      <td>1.000000</td>\n",
       "      <td>3.000000</td>\n",
       "      <td>80.000000</td>\n",
       "      <td>8.000000</td>\n",
       "      <td>6.000000</td>\n",
       "      <td>512.329200</td>\n",
       "    </tr>\n",
       "  </tbody>\n",
       "</table>\n",
       "</div>"
      ],
      "text/plain": [
       "       PassengerId    Survived      Pclass         Age       SibSp  \\\n",
       "count   891.000000  891.000000  891.000000  714.000000  891.000000   \n",
       "mean    446.000000    0.383838    2.308642   29.699118    0.523008   \n",
       "std     257.353842    0.486592    0.836071   14.526497    1.102743   \n",
       "min       1.000000    0.000000    1.000000    0.420000    0.000000   \n",
       "25%     223.500000    0.000000    2.000000   20.125000    0.000000   \n",
       "50%     446.000000    0.000000    3.000000   28.000000    0.000000   \n",
       "75%     668.500000    1.000000    3.000000   38.000000    1.000000   \n",
       "max     891.000000    1.000000    3.000000   80.000000    8.000000   \n",
       "\n",
       "            Parch        Fare  \n",
       "count  891.000000  891.000000  \n",
       "mean     0.381594   32.204208  \n",
       "std      0.806057   49.693429  \n",
       "min      0.000000    0.000000  \n",
       "25%      0.000000    7.910400  \n",
       "50%      0.000000   14.454200  \n",
       "75%      0.000000   31.000000  \n",
       "max      6.000000  512.329200  "
      ]
     },
     "execution_count": 5,
     "metadata": {},
     "output_type": "execute_result"
    }
   ],
   "source": [
    "df.describe()"
   ]
  },
  {
   "cell_type": "code",
   "execution_count": 11,
   "metadata": {},
   "outputs": [
    {
     "name": "stdout",
     "output_type": "stream",
     "text": [
      "<class 'pandas.core.frame.DataFrame'>\n",
      "RangeIndex: 418 entries, 0 to 417\n",
      "Data columns (total 11 columns):\n",
      " #   Column       Non-Null Count  Dtype  \n",
      "---  ------       --------------  -----  \n",
      " 0   PassengerId  418 non-null    int64  \n",
      " 1   Pclass       418 non-null    int64  \n",
      " 2   Name         418 non-null    object \n",
      " 3   Sex          418 non-null    object \n",
      " 4   Age          332 non-null    float64\n",
      " 5   SibSp        418 non-null    int64  \n",
      " 6   Parch        418 non-null    int64  \n",
      " 7   Ticket       418 non-null    object \n",
      " 8   Fare         417 non-null    float64\n",
      " 9   Cabin        91 non-null     object \n",
      " 10  Embarked     418 non-null    object \n",
      "dtypes: float64(2), int64(4), object(5)\n",
      "memory usage: 36.0+ KB\n"
     ]
    }
   ],
   "source": [
    "df_test.info()"
   ]
  },
  {
   "cell_type": "code",
   "execution_count": 10,
   "metadata": {},
   "outputs": [
    {
     "data": {
      "text/html": [
       "<div>\n",
       "<style scoped>\n",
       "    .dataframe tbody tr th:only-of-type {\n",
       "        vertical-align: middle;\n",
       "    }\n",
       "\n",
       "    .dataframe tbody tr th {\n",
       "        vertical-align: top;\n",
       "    }\n",
       "\n",
       "    .dataframe thead th {\n",
       "        text-align: right;\n",
       "    }\n",
       "</style>\n",
       "<table border=\"1\" class=\"dataframe\">\n",
       "  <thead>\n",
       "    <tr style=\"text-align: right;\">\n",
       "      <th></th>\n",
       "      <th>PassengerId</th>\n",
       "      <th>Pclass</th>\n",
       "      <th>Age</th>\n",
       "      <th>SibSp</th>\n",
       "      <th>Parch</th>\n",
       "      <th>Fare</th>\n",
       "    </tr>\n",
       "  </thead>\n",
       "  <tbody>\n",
       "    <tr>\n",
       "      <th>count</th>\n",
       "      <td>418.000000</td>\n",
       "      <td>418.000000</td>\n",
       "      <td>332.000000</td>\n",
       "      <td>418.000000</td>\n",
       "      <td>418.000000</td>\n",
       "      <td>417.000000</td>\n",
       "    </tr>\n",
       "    <tr>\n",
       "      <th>mean</th>\n",
       "      <td>1100.500000</td>\n",
       "      <td>2.265550</td>\n",
       "      <td>30.272590</td>\n",
       "      <td>0.447368</td>\n",
       "      <td>0.392344</td>\n",
       "      <td>35.627188</td>\n",
       "    </tr>\n",
       "    <tr>\n",
       "      <th>std</th>\n",
       "      <td>120.810458</td>\n",
       "      <td>0.841838</td>\n",
       "      <td>14.181209</td>\n",
       "      <td>0.896760</td>\n",
       "      <td>0.981429</td>\n",
       "      <td>55.907576</td>\n",
       "    </tr>\n",
       "    <tr>\n",
       "      <th>min</th>\n",
       "      <td>892.000000</td>\n",
       "      <td>1.000000</td>\n",
       "      <td>0.170000</td>\n",
       "      <td>0.000000</td>\n",
       "      <td>0.000000</td>\n",
       "      <td>0.000000</td>\n",
       "    </tr>\n",
       "    <tr>\n",
       "      <th>25%</th>\n",
       "      <td>996.250000</td>\n",
       "      <td>1.000000</td>\n",
       "      <td>21.000000</td>\n",
       "      <td>0.000000</td>\n",
       "      <td>0.000000</td>\n",
       "      <td>7.895800</td>\n",
       "    </tr>\n",
       "    <tr>\n",
       "      <th>50%</th>\n",
       "      <td>1100.500000</td>\n",
       "      <td>3.000000</td>\n",
       "      <td>27.000000</td>\n",
       "      <td>0.000000</td>\n",
       "      <td>0.000000</td>\n",
       "      <td>14.454200</td>\n",
       "    </tr>\n",
       "    <tr>\n",
       "      <th>75%</th>\n",
       "      <td>1204.750000</td>\n",
       "      <td>3.000000</td>\n",
       "      <td>39.000000</td>\n",
       "      <td>1.000000</td>\n",
       "      <td>0.000000</td>\n",
       "      <td>31.500000</td>\n",
       "    </tr>\n",
       "    <tr>\n",
       "      <th>max</th>\n",
       "      <td>1309.000000</td>\n",
       "      <td>3.000000</td>\n",
       "      <td>76.000000</td>\n",
       "      <td>8.000000</td>\n",
       "      <td>9.000000</td>\n",
       "      <td>512.329200</td>\n",
       "    </tr>\n",
       "  </tbody>\n",
       "</table>\n",
       "</div>"
      ],
      "text/plain": [
       "       PassengerId      Pclass         Age       SibSp       Parch        Fare\n",
       "count   418.000000  418.000000  332.000000  418.000000  418.000000  417.000000\n",
       "mean   1100.500000    2.265550   30.272590    0.447368    0.392344   35.627188\n",
       "std     120.810458    0.841838   14.181209    0.896760    0.981429   55.907576\n",
       "min     892.000000    1.000000    0.170000    0.000000    0.000000    0.000000\n",
       "25%     996.250000    1.000000   21.000000    0.000000    0.000000    7.895800\n",
       "50%    1100.500000    3.000000   27.000000    0.000000    0.000000   14.454200\n",
       "75%    1204.750000    3.000000   39.000000    1.000000    0.000000   31.500000\n",
       "max    1309.000000    3.000000   76.000000    8.000000    9.000000  512.329200"
      ]
     },
     "execution_count": 10,
     "metadata": {},
     "output_type": "execute_result"
    }
   ],
   "source": [
    "df_test.describe()"
   ]
  },
  {
   "cell_type": "code",
   "execution_count": 9,
   "metadata": {},
   "outputs": [
    {
     "data": {
      "text/html": [
       "<div>\n",
       "<style scoped>\n",
       "    .dataframe tbody tr th:only-of-type {\n",
       "        vertical-align: middle;\n",
       "    }\n",
       "\n",
       "    .dataframe tbody tr th {\n",
       "        vertical-align: top;\n",
       "    }\n",
       "\n",
       "    .dataframe thead th {\n",
       "        text-align: right;\n",
       "    }\n",
       "</style>\n",
       "<table border=\"1\" class=\"dataframe\">\n",
       "  <thead>\n",
       "    <tr style=\"text-align: right;\">\n",
       "      <th></th>\n",
       "      <th>PassengerId</th>\n",
       "      <th>Pclass</th>\n",
       "      <th>Name</th>\n",
       "      <th>Sex</th>\n",
       "      <th>Age</th>\n",
       "      <th>SibSp</th>\n",
       "      <th>Parch</th>\n",
       "      <th>Ticket</th>\n",
       "      <th>Fare</th>\n",
       "      <th>Cabin</th>\n",
       "      <th>Embarked</th>\n",
       "    </tr>\n",
       "  </thead>\n",
       "  <tbody>\n",
       "    <tr>\n",
       "      <th>0</th>\n",
       "      <td>892</td>\n",
       "      <td>3</td>\n",
       "      <td>Kelly, Mr. James</td>\n",
       "      <td>male</td>\n",
       "      <td>34.5</td>\n",
       "      <td>0</td>\n",
       "      <td>0</td>\n",
       "      <td>330911</td>\n",
       "      <td>7.8292</td>\n",
       "      <td>NaN</td>\n",
       "      <td>Q</td>\n",
       "    </tr>\n",
       "    <tr>\n",
       "      <th>1</th>\n",
       "      <td>893</td>\n",
       "      <td>3</td>\n",
       "      <td>Wilkes, Mrs. James (Ellen Needs)</td>\n",
       "      <td>female</td>\n",
       "      <td>47.0</td>\n",
       "      <td>1</td>\n",
       "      <td>0</td>\n",
       "      <td>363272</td>\n",
       "      <td>7.0000</td>\n",
       "      <td>NaN</td>\n",
       "      <td>S</td>\n",
       "    </tr>\n",
       "    <tr>\n",
       "      <th>2</th>\n",
       "      <td>894</td>\n",
       "      <td>2</td>\n",
       "      <td>Myles, Mr. Thomas Francis</td>\n",
       "      <td>male</td>\n",
       "      <td>62.0</td>\n",
       "      <td>0</td>\n",
       "      <td>0</td>\n",
       "      <td>240276</td>\n",
       "      <td>9.6875</td>\n",
       "      <td>NaN</td>\n",
       "      <td>Q</td>\n",
       "    </tr>\n",
       "    <tr>\n",
       "      <th>3</th>\n",
       "      <td>895</td>\n",
       "      <td>3</td>\n",
       "      <td>Wirz, Mr. Albert</td>\n",
       "      <td>male</td>\n",
       "      <td>27.0</td>\n",
       "      <td>0</td>\n",
       "      <td>0</td>\n",
       "      <td>315154</td>\n",
       "      <td>8.6625</td>\n",
       "      <td>NaN</td>\n",
       "      <td>S</td>\n",
       "    </tr>\n",
       "    <tr>\n",
       "      <th>4</th>\n",
       "      <td>896</td>\n",
       "      <td>3</td>\n",
       "      <td>Hirvonen, Mrs. Alexander (Helga E Lindqvist)</td>\n",
       "      <td>female</td>\n",
       "      <td>22.0</td>\n",
       "      <td>1</td>\n",
       "      <td>1</td>\n",
       "      <td>3101298</td>\n",
       "      <td>12.2875</td>\n",
       "      <td>NaN</td>\n",
       "      <td>S</td>\n",
       "    </tr>\n",
       "  </tbody>\n",
       "</table>\n",
       "</div>"
      ],
      "text/plain": [
       "   PassengerId  Pclass                                          Name     Sex  \\\n",
       "0          892       3                              Kelly, Mr. James    male   \n",
       "1          893       3              Wilkes, Mrs. James (Ellen Needs)  female   \n",
       "2          894       2                     Myles, Mr. Thomas Francis    male   \n",
       "3          895       3                              Wirz, Mr. Albert    male   \n",
       "4          896       3  Hirvonen, Mrs. Alexander (Helga E Lindqvist)  female   \n",
       "\n",
       "    Age  SibSp  Parch   Ticket     Fare Cabin Embarked  \n",
       "0  34.5      0      0   330911   7.8292   NaN        Q  \n",
       "1  47.0      1      0   363272   7.0000   NaN        S  \n",
       "2  62.0      0      0   240276   9.6875   NaN        Q  \n",
       "3  27.0      0      0   315154   8.6625   NaN        S  \n",
       "4  22.0      1      1  3101298  12.2875   NaN        S  "
      ]
     },
     "execution_count": 9,
     "metadata": {},
     "output_type": "execute_result"
    }
   ],
   "source": [
    "df_test.head()"
   ]
  },
  {
   "cell_type": "markdown",
   "metadata": {},
   "source": [
    "## Data Preprocessing"
   ]
  },
  {
   "cell_type": "code",
   "execution_count": 12,
   "metadata": {},
   "outputs": [],
   "source": [
    "df = df.drop(['PassengerId','Ticket','Name','Cabin'],axis=1)\n",
    "test = df_test.drop(['PassengerId','Ticket','Name', 'Cabin'],axis=1)"
   ]
  },
  {
   "cell_type": "code",
   "execution_count": 56,
   "metadata": {},
   "outputs": [],
   "source": [
    "df['Age'] = df['Age'].fillna(0)\n",
    "test = test.fillna(0)"
   ]
  },
  {
   "cell_type": "code",
   "execution_count": 14,
   "metadata": {},
   "outputs": [
    {
     "data": {
      "text/html": [
       "<div>\n",
       "<style scoped>\n",
       "    .dataframe tbody tr th:only-of-type {\n",
       "        vertical-align: middle;\n",
       "    }\n",
       "\n",
       "    .dataframe tbody tr th {\n",
       "        vertical-align: top;\n",
       "    }\n",
       "\n",
       "    .dataframe thead th {\n",
       "        text-align: right;\n",
       "    }\n",
       "</style>\n",
       "<table border=\"1\" class=\"dataframe\">\n",
       "  <thead>\n",
       "    <tr style=\"text-align: right;\">\n",
       "      <th></th>\n",
       "      <th>Survived</th>\n",
       "      <th>Pclass</th>\n",
       "      <th>Sex</th>\n",
       "      <th>Age</th>\n",
       "      <th>SibSp</th>\n",
       "      <th>Parch</th>\n",
       "      <th>Fare</th>\n",
       "      <th>Embarked</th>\n",
       "    </tr>\n",
       "  </thead>\n",
       "  <tbody>\n",
       "    <tr>\n",
       "      <th>0</th>\n",
       "      <td>0</td>\n",
       "      <td>3</td>\n",
       "      <td>male</td>\n",
       "      <td>22.0</td>\n",
       "      <td>1</td>\n",
       "      <td>0</td>\n",
       "      <td>7.2500</td>\n",
       "      <td>S</td>\n",
       "    </tr>\n",
       "    <tr>\n",
       "      <th>1</th>\n",
       "      <td>1</td>\n",
       "      <td>1</td>\n",
       "      <td>female</td>\n",
       "      <td>38.0</td>\n",
       "      <td>1</td>\n",
       "      <td>0</td>\n",
       "      <td>71.2833</td>\n",
       "      <td>C</td>\n",
       "    </tr>\n",
       "    <tr>\n",
       "      <th>2</th>\n",
       "      <td>1</td>\n",
       "      <td>3</td>\n",
       "      <td>female</td>\n",
       "      <td>26.0</td>\n",
       "      <td>0</td>\n",
       "      <td>0</td>\n",
       "      <td>7.9250</td>\n",
       "      <td>S</td>\n",
       "    </tr>\n",
       "    <tr>\n",
       "      <th>3</th>\n",
       "      <td>1</td>\n",
       "      <td>1</td>\n",
       "      <td>female</td>\n",
       "      <td>35.0</td>\n",
       "      <td>1</td>\n",
       "      <td>0</td>\n",
       "      <td>53.1000</td>\n",
       "      <td>S</td>\n",
       "    </tr>\n",
       "    <tr>\n",
       "      <th>4</th>\n",
       "      <td>0</td>\n",
       "      <td>3</td>\n",
       "      <td>male</td>\n",
       "      <td>35.0</td>\n",
       "      <td>0</td>\n",
       "      <td>0</td>\n",
       "      <td>8.0500</td>\n",
       "      <td>S</td>\n",
       "    </tr>\n",
       "    <tr>\n",
       "      <th>...</th>\n",
       "      <td>...</td>\n",
       "      <td>...</td>\n",
       "      <td>...</td>\n",
       "      <td>...</td>\n",
       "      <td>...</td>\n",
       "      <td>...</td>\n",
       "      <td>...</td>\n",
       "      <td>...</td>\n",
       "    </tr>\n",
       "    <tr>\n",
       "      <th>886</th>\n",
       "      <td>0</td>\n",
       "      <td>2</td>\n",
       "      <td>male</td>\n",
       "      <td>27.0</td>\n",
       "      <td>0</td>\n",
       "      <td>0</td>\n",
       "      <td>13.0000</td>\n",
       "      <td>S</td>\n",
       "    </tr>\n",
       "    <tr>\n",
       "      <th>887</th>\n",
       "      <td>1</td>\n",
       "      <td>1</td>\n",
       "      <td>female</td>\n",
       "      <td>19.0</td>\n",
       "      <td>0</td>\n",
       "      <td>0</td>\n",
       "      <td>30.0000</td>\n",
       "      <td>S</td>\n",
       "    </tr>\n",
       "    <tr>\n",
       "      <th>888</th>\n",
       "      <td>0</td>\n",
       "      <td>3</td>\n",
       "      <td>female</td>\n",
       "      <td>0.0</td>\n",
       "      <td>1</td>\n",
       "      <td>2</td>\n",
       "      <td>23.4500</td>\n",
       "      <td>S</td>\n",
       "    </tr>\n",
       "    <tr>\n",
       "      <th>889</th>\n",
       "      <td>1</td>\n",
       "      <td>1</td>\n",
       "      <td>male</td>\n",
       "      <td>26.0</td>\n",
       "      <td>0</td>\n",
       "      <td>0</td>\n",
       "      <td>30.0000</td>\n",
       "      <td>C</td>\n",
       "    </tr>\n",
       "    <tr>\n",
       "      <th>890</th>\n",
       "      <td>0</td>\n",
       "      <td>3</td>\n",
       "      <td>male</td>\n",
       "      <td>32.0</td>\n",
       "      <td>0</td>\n",
       "      <td>0</td>\n",
       "      <td>7.7500</td>\n",
       "      <td>Q</td>\n",
       "    </tr>\n",
       "  </tbody>\n",
       "</table>\n",
       "<p>891 rows × 8 columns</p>\n",
       "</div>"
      ],
      "text/plain": [
       "     Survived  Pclass     Sex   Age  SibSp  Parch     Fare Embarked\n",
       "0           0       3    male  22.0      1      0   7.2500        S\n",
       "1           1       1  female  38.0      1      0  71.2833        C\n",
       "2           1       3  female  26.0      0      0   7.9250        S\n",
       "3           1       1  female  35.0      1      0  53.1000        S\n",
       "4           0       3    male  35.0      0      0   8.0500        S\n",
       "..        ...     ...     ...   ...    ...    ...      ...      ...\n",
       "886         0       2    male  27.0      0      0  13.0000        S\n",
       "887         1       1  female  19.0      0      0  30.0000        S\n",
       "888         0       3  female   0.0      1      2  23.4500        S\n",
       "889         1       1    male  26.0      0      0  30.0000        C\n",
       "890         0       3    male  32.0      0      0   7.7500        Q\n",
       "\n",
       "[891 rows x 8 columns]"
      ]
     },
     "execution_count": 14,
     "metadata": {},
     "output_type": "execute_result"
    }
   ],
   "source": [
    "df"
   ]
  },
  {
   "cell_type": "code",
   "execution_count": 16,
   "metadata": {},
   "outputs": [],
   "source": [
    "df['Family'] = df['SibSp'] + df['Parch']\n",
    "test['Family'] = test['SibSp'] + test['Parch']"
   ]
  },
  {
   "cell_type": "code",
   "execution_count": 17,
   "metadata": {},
   "outputs": [],
   "source": [
    "X = df.drop(\"Survived\", axis=1)\n",
    "y = df[\"Survived\"]\n",
    "X = pd.get_dummies(X, drop_first=True);"
   ]
  },
  {
   "cell_type": "code",
   "execution_count": 18,
   "metadata": {},
   "outputs": [],
   "source": [
    "from sklearn.preprocessing import StandardScaler\n",
    "from sklearn.model_selection import train_test_split"
   ]
  },
  {
   "cell_type": "code",
   "execution_count": 19,
   "metadata": {},
   "outputs": [],
   "source": [
    " X_train, X_test, y_train, y_test = train_test_split(X, y, test_size=0.1, random_state=101)\n"
   ]
  },
  {
   "cell_type": "code",
   "execution_count": 20,
   "metadata": {},
   "outputs": [
    {
     "data": {
      "text/plain": [
       "array([[-1.56832452e+00,  1.23713390e+00, -4.83483830e-01,\n",
       "        -4.74526647e-01, -7.48838708e-02, -5.68463349e-01,\n",
       "         7.45211249e-01, -2.99659671e-01,  6.13423720e-01],\n",
       "       [-1.56832452e+00, -3.40361622e-01,  4.32049380e-01,\n",
       "        -4.74526647e-01,  4.08584656e+00,  5.18897063e-02,\n",
       "        -1.34190138e+00, -2.99659671e-01, -1.63019454e+00],\n",
       "       [-1.56832452e+00, -2.82998149e-01,  4.32049380e-01,\n",
       "        -4.74526647e-01,  4.39393072e-01,  5.18897063e-02,\n",
       "         7.45211249e-01, -2.99659671e-01,  6.13423720e-01],\n",
       "       [ 8.24490604e-01, -1.02872330e+00, -4.83483830e-01,\n",
       "         7.47646485e-01, -4.09895579e-01,  5.18897063e-02,\n",
       "         7.45211249e-01, -2.99659671e-01,  6.13423720e-01],\n",
       "       [-3.71916957e-01, -1.37290414e+00, -4.83483830e-01,\n",
       "        -4.74526647e-01, -6.70692525e-01, -5.68463349e-01,\n",
       "         7.45211249e-01, -2.99659671e-01,  6.13423720e-01],\n",
       "       [ 8.24490604e-01,  1.03636174e+00, -4.83483830e-01,\n",
       "        -4.74526647e-01, -5.12855495e-01, -5.68463349e-01,\n",
       "         7.45211249e-01, -2.99659671e-01,  6.13423720e-01],\n",
       "       [-1.56832452e+00, -1.37290414e+00, -4.83483830e-01,\n",
       "        -4.74526647e-01, -4.35255206e-02, -5.68463349e-01,\n",
       "         7.45211249e-01, -2.99659671e-01,  6.13423720e-01],\n",
       "       [ 8.24490604e-01, -1.10907728e-01, -4.83483830e-01,\n",
       "        -4.74526647e-01, -5.05626350e-01, -5.68463349e-01,\n",
       "         7.45211249e-01, -2.99659671e-01,  6.13423720e-01],\n",
       "       [-1.56832452e+00, -1.37290414e+00,  4.32049380e-01,\n",
       "        -4.74526647e-01,  4.16396949e-01,  5.18897063e-02,\n",
       "        -1.34190138e+00, -2.99659671e-01,  6.13423720e-01],\n",
       "       [ 8.24490604e-01, -1.37290414e+00,  4.32049380e-01,\n",
       "        -4.74526647e-01, -3.46656239e-01,  5.18897063e-02,\n",
       "        -1.34190138e+00,  3.33711906e+00, -1.63019454e+00],\n",
       "       [-3.71916957e-01, -1.37290414e+00, -4.83483830e-01,\n",
       "        -4.74526647e-01, -6.70692525e-01, -5.68463349e-01,\n",
       "         7.45211249e-01, -2.99659671e-01,  6.13423720e-01],\n",
       "       [ 8.24490604e-01,  4.62727006e-01, -4.83483830e-01,\n",
       "        -4.74526647e-01, -5.05015908e-01, -5.68463349e-01,\n",
       "         7.45211249e-01, -2.99659671e-01,  6.13423720e-01],\n",
       "       [ 8.24490604e-01, -1.08608678e+00,  1.34758259e+00,\n",
       "         7.47646485e-01, -2.68086847e-01,  1.29259582e+00,\n",
       "        -1.34190138e+00, -2.99659671e-01, -1.63019454e+00],\n",
       "       [ 8.24490604e-01,  3.81921852e-03, -4.83483830e-01,\n",
       "        -4.74526647e-01, -5.21391238e-01, -5.68463349e-01,\n",
       "         7.45211249e-01, -2.99659671e-01,  6.13423720e-01],\n",
       "       [-1.56832452e+00,  3.21617373e+00, -4.83483830e-01,\n",
       "        -4.74526647e-01, -4.35255206e-02, -5.68463349e-01,\n",
       "         7.45211249e-01, -2.99659671e-01,  6.13423720e-01],\n",
       "       [-3.71916957e-01,  2.64253900e+00, -4.83483830e-01,\n",
       "        -4.74526647e-01, -4.51184073e-01, -5.68463349e-01,\n",
       "         7.45211249e-01, -2.99659671e-01,  6.13423720e-01],\n",
       "       [-1.56832452e+00,  1.18546165e-01, -4.83483830e-01,\n",
       "        -4.74526647e-01, -4.35255206e-02, -5.68463349e-01,\n",
       "         7.45211249e-01, -2.99659671e-01, -1.63019454e+00],\n",
       "       [ 8.24490604e-01, -3.97725095e-01, -4.83483830e-01,\n",
       "        -4.74526647e-01, -4.89598052e-01, -5.68463349e-01,\n",
       "         7.45211249e-01, -2.99659671e-01,  6.13423720e-01],\n",
       "       [ 8.24490604e-01, -1.37290414e+00, -4.83483830e-01,\n",
       "        -4.74526647e-01, -3.68433568e-01, -5.68463349e-01,\n",
       "         7.45211249e-01, -2.99659671e-01, -1.63019454e+00],\n",
       "       [-3.71916957e-01, -1.10907728e-01,  4.32049380e-01,\n",
       "         7.47646485e-01, -6.44310874e-02,  6.72242762e-01,\n",
       "        -1.34190138e+00, -2.99659671e-01,  6.13423720e-01],\n",
       "       [ 8.24490604e-01,  6.34817426e-01, -4.83483830e-01,\n",
       "        -4.74526647e-01, -5.02402712e-01, -5.68463349e-01,\n",
       "         7.45211249e-01, -2.99659671e-01,  6.13423720e-01],\n",
       "       [ 8.24490604e-01, -8.56632883e-01,  3.17864901e+00,\n",
       "         1.96981962e+00, -1.45190466e-02,  3.15365498e+00,\n",
       "         7.45211249e-01, -2.99659671e-01,  6.13423720e-01],\n",
       "       [ 8.24490604e-01, -1.37290414e+00, -4.83483830e-01,\n",
       "        -4.74526647e-01, -5.08935701e-01, -5.68463349e-01,\n",
       "        -1.34190138e+00,  3.33711906e+00, -1.63019454e+00],\n",
       "       [ 8.24490604e-01, -1.37290414e+00,  4.32049380e-01,\n",
       "        -4.74526647e-01, -1.65823086e-01,  5.18897063e-02,\n",
       "        -1.34190138e+00,  3.33711906e+00, -1.63019454e+00],\n",
       "       [ 8.24490604e-01,  1.32317911e+00, -4.83483830e-01,\n",
       "        -4.74526647e-01, -4.82542423e-01, -5.68463349e-01,\n",
       "         7.45211249e-01, -2.99659671e-01,  6.13423720e-01],\n",
       "       [-1.56832452e+00,  2.06890426e+00, -4.83483830e-01,\n",
       "        -4.74526647e-01, -1.15649726e-01, -5.68463349e-01,\n",
       "         7.45211249e-01, -2.99659671e-01,  6.13423720e-01],\n",
       "       [ 8.24490604e-01, -4.55088569e-01, -4.83483830e-01,\n",
       "        -4.74526647e-01, -4.78012187e-01, -5.68463349e-01,\n",
       "         7.45211249e-01, -2.99659671e-01,  6.13423720e-01],\n",
       "       [-3.71916957e-01,  2.90636586e-01,  4.32049380e-01,\n",
       "        -4.74526647e-01, -9.11734884e-02,  5.18897063e-02,\n",
       "         7.45211249e-01, -2.99659671e-01, -1.63019454e+00],\n",
       "       [ 8.24490604e-01, -1.25817720e+00,  2.26311580e+00,\n",
       "         7.47646485e-01, -2.30107704e-01,  1.91294887e+00,\n",
       "         7.45211249e-01, -2.99659671e-01,  6.13423720e-01],\n",
       "       [ 8.24490604e-01,  5.20090479e-01,  4.32049380e-01,\n",
       "         7.47646485e-01, -2.41605766e-01,  6.72242762e-01,\n",
       "         7.45211249e-01, -2.99659671e-01,  6.13423720e-01],\n",
       "       [-3.71916957e-01,  1.75909639e-01, -4.83483830e-01,\n",
       "        -4.74526647e-01, -4.51184073e-01, -5.68463349e-01,\n",
       "        -1.34190138e+00, -2.99659671e-01,  6.13423720e-01],\n",
       "       [-1.56832452e+00,  6.92180900e-01, -4.83483830e-01,\n",
       "         7.47646485e-01,  1.00398398e+01,  5.18897063e-02,\n",
       "         7.45211249e-01, -2.99659671e-01, -1.63019454e+00],\n",
       "       [ 8.24490604e-01, -1.37290414e+00, -4.83483830e-01,\n",
       "        -4.74526647e-01, -5.08674382e-01, -5.68463349e-01,\n",
       "        -1.34190138e+00,  3.33711906e+00, -1.63019454e+00],\n",
       "       [ 8.24490604e-01,  4.62727006e-01, -4.83483830e-01,\n",
       "        -4.74526647e-01,  5.10384196e-01, -5.68463349e-01,\n",
       "         7.45211249e-01, -2.99659671e-01,  6.13423720e-01],\n",
       "       [ 8.24490604e-01, -1.14345025e+00,  3.17864901e+00,\n",
       "         7.47646485e-01, -6.18178915e-02,  2.53330193e+00,\n",
       "         7.45211249e-01,  3.33711906e+00, -1.63019454e+00],\n",
       "       [-1.56832452e+00, -3.40361622e-01, -4.83483830e-01,\n",
       "         1.96981962e+00,  9.94435871e-01,  6.72242762e-01,\n",
       "        -1.34190138e+00, -2.99659671e-01,  6.13423720e-01],\n",
       "       [ 8.24490604e-01,  3.48000059e-01, -4.83483830e-01,\n",
       "        -4.74526647e-01, -5.19127165e-01, -5.68463349e-01,\n",
       "         7.45211249e-01, -2.99659671e-01,  6.13423720e-01],\n",
       "       [ 8.24490604e-01,  1.15108869e+00, -4.83483830e-01,\n",
       "        -4.74526647e-01, -5.02402712e-01, -5.68463349e-01,\n",
       "         7.45211249e-01, -2.99659671e-01,  6.13423720e-01],\n",
       "       [ 8.24490604e-01, -1.25817720e+00,  3.17864901e+00,\n",
       "         7.47646485e-01, -6.18178915e-02,  2.53330193e+00,\n",
       "         7.45211249e-01,  3.33711906e+00, -1.63019454e+00],\n",
       "       [-1.56832452e+00,  1.75909639e-01,  4.32049380e-01,\n",
       "        -4.74526647e-01,  4.39393072e-01,  5.18897063e-02,\n",
       "         7.45211249e-01, -2.99659671e-01,  6.13423720e-01],\n",
       "       [-1.56832452e+00, -3.97725095e-01, -4.83483830e-01,\n",
       "         1.96981962e+00,  1.64738571e+00,  6.72242762e-01,\n",
       "         7.45211249e-01, -2.99659671e-01, -1.63019454e+00],\n",
       "       [ 8.24490604e-01, -1.37290414e+00,  4.32049380e-01,\n",
       "        -4.74526647e-01, -3.46656239e-01,  5.18897063e-02,\n",
       "        -1.34190138e+00,  3.33711906e+00, -1.63019454e+00],\n",
       "       [-3.71916957e-01, -9.13996356e-01, -4.83483830e-01,\n",
       "         1.96981962e+00, -1.21921396e-01,  6.72242762e-01,\n",
       "        -1.34190138e+00, -2.99659671e-01,  6.13423720e-01],\n",
       "       [-3.71916957e-01, -5.35442549e-02, -4.83483830e-01,\n",
       "        -4.74526647e-01, -3.56151548e-01, -5.68463349e-01,\n",
       "         7.45211249e-01, -2.99659671e-01, -1.63019454e+00],\n",
       "       [-3.71916957e-01,  8.64271320e-01, -4.83483830e-01,\n",
       "        -4.74526647e-01, -3.98920156e-01, -5.68463349e-01,\n",
       "         7.45211249e-01, -2.99659671e-01,  6.13423720e-01],\n",
       "       [-1.56832452e+00, -1.37290414e+00, -4.83483830e-01,\n",
       "        -4.74526647e-01, -3.30727372e-02, -5.68463349e-01,\n",
       "         7.45211249e-01, -2.99659671e-01,  6.13423720e-01],\n",
       "       [ 8.24490604e-01,  2.33273112e-01,  1.34758259e+00,\n",
       "        -4.74526647e-01, -5.05015908e-01,  6.72242762e-01,\n",
       "         7.45211249e-01, -2.99659671e-01,  6.13423720e-01],\n",
       "       [-1.56832452e+00,  1.20845216e+00, -4.83483830e-01,\n",
       "        -4.74526647e-01, -1.15649726e-01, -5.68463349e-01,\n",
       "         7.45211249e-01, -2.99659671e-01,  6.13423720e-01],\n",
       "       [ 8.24490604e-01,  6.92180900e-01, -4.83483830e-01,\n",
       "        -4.74526647e-01, -5.05626350e-01, -5.68463349e-01,\n",
       "         7.45211249e-01, -2.99659671e-01,  6.13423720e-01],\n",
       "       [-3.71916957e-01, -1.37290414e+00, -4.83483830e-01,\n",
       "        -4.74526647e-01, -6.70692525e-01, -5.68463349e-01,\n",
       "         7.45211249e-01, -2.99659671e-01,  6.13423720e-01],\n",
       "       [-3.71916957e-01,  3.81921852e-03, -4.83483830e-01,\n",
       "         1.96981962e+00, -3.67561806e-01,  6.72242762e-01,\n",
       "        -1.34190138e+00, -2.99659671e-01,  6.13423720e-01],\n",
       "       [ 8.24490604e-01,  1.38054258e+00,  4.32049380e-01,\n",
       "         3.19199275e+00,  4.79363342e-02,  1.91294887e+00,\n",
       "        -1.34190138e+00, -2.99659671e-01,  6.13423720e-01],\n",
       "       [-3.71916957e-01,  5.77453953e-01, -4.83483830e-01,\n",
       "         7.47646485e-01, -1.89864488e-01,  5.18897063e-02,\n",
       "        -1.34190138e+00, -2.99659671e-01,  6.13423720e-01],\n",
       "       [-3.71916957e-01,  1.20845216e+00, -4.83483830e-01,\n",
       "        -4.74526647e-01, -3.88467373e-01, -5.68463349e-01,\n",
       "        -1.34190138e+00, -2.99659671e-01,  6.13423720e-01],\n",
       "       [ 8.24490604e-01, -1.37290414e+00, -4.83483830e-01,\n",
       "        -4.74526647e-01, -5.08674382e-01, -5.68463349e-01,\n",
       "        -1.34190138e+00,  3.33711906e+00, -1.63019454e+00],\n",
       "       [ 8.24490604e-01, -1.37290414e+00, -4.83483830e-01,\n",
       "        -4.74526647e-01, -5.08151743e-01, -5.68463349e-01,\n",
       "         7.45211249e-01, -2.99659671e-01,  6.13423720e-01],\n",
       "       [ 8.24490604e-01, -1.10907728e-01, -4.83483830e-01,\n",
       "        -4.74526647e-01, -5.19649804e-01, -5.68463349e-01,\n",
       "         7.45211249e-01, -2.99659671e-01, -1.63019454e+00],\n",
       "       [ 8.24490604e-01, -3.97725095e-01, -4.83483830e-01,\n",
       "        -4.74526647e-01, -5.21740361e-01, -5.68463349e-01,\n",
       "         7.45211249e-01, -2.99659671e-01,  6.13423720e-01],\n",
       "       [-1.56832452e+00,  1.83945037e+00, -4.83483830e-01,\n",
       "        -4.74526647e-01, -2.89794272e-02, -5.68463349e-01,\n",
       "         7.45211249e-01, -2.99659671e-01, -1.63019454e+00],\n",
       "       [-1.56832452e+00, -1.37290414e+00,  4.32049380e-01,\n",
       "        -4.74526647e-01,  2.39240785e+00,  5.18897063e-02,\n",
       "        -1.34190138e+00, -2.99659671e-01, -1.63019454e+00],\n",
       "       [-1.56832452e+00, -1.10907728e-01,  4.32049380e-01,\n",
       "        -4.74526647e-01,  7.21618224e-01,  5.18897063e-02,\n",
       "        -1.34190138e+00, -2.99659671e-01,  6.13423720e-01],\n",
       "       [-3.71916957e-01,  1.32317911e+00, -4.83483830e-01,\n",
       "        -4.74526647e-01, -3.57109023e-01, -5.68463349e-01,\n",
       "         7.45211249e-01, -2.99659671e-01,  6.13423720e-01],\n",
       "       [ 8.24490604e-01,  1.55263300e+00, -4.83483830e-01,\n",
       "        -4.74526647e-01, -5.23220475e-01, -5.68463349e-01,\n",
       "         7.45211249e-01, -2.99659671e-01,  6.13423720e-01],\n",
       "       [ 8.24490604e-01,  6.11826919e-02, -4.83483830e-01,\n",
       "        -4.74526647e-01, -5.08151743e-01, -5.68463349e-01,\n",
       "        -1.34190138e+00, -2.99659671e-01,  6.13423720e-01],\n",
       "       [ 8.24490604e-01,  9.78998267e-01, -4.83483830e-01,\n",
       "        -4.74526647e-01, -5.21740361e-01, -5.68463349e-01,\n",
       "         7.45211249e-01, -2.99659671e-01,  6.13423720e-01],\n",
       "       [-3.71916957e-01,  3.81921852e-03, -4.83483830e-01,\n",
       "        -4.74526647e-01, -3.98920156e-01, -5.68463349e-01,\n",
       "         7.45211249e-01, -2.99659671e-01,  6.13423720e-01],\n",
       "       [-3.71916957e-01,  3.48000059e-01, -4.83483830e-01,\n",
       "        -4.74526647e-01, -4.12508775e-01, -5.68463349e-01,\n",
       "        -1.34190138e+00,  3.33711906e+00, -1.63019454e+00],\n",
       "       [-1.56832452e+00, -1.37290414e+00, -4.83483830e-01,\n",
       "        -4.74526647e-01,  3.96572736e+00, -5.68463349e-01,\n",
       "         7.45211249e-01, -2.99659671e-01,  6.13423720e-01],\n",
       "       [ 8.24490604e-01, -1.37290414e+00,  4.32049380e-01,\n",
       "         7.47646485e-01, -2.03279590e-01,  6.72242762e-01,\n",
       "        -1.34190138e+00, -2.99659671e-01, -1.63019454e+00],\n",
       "       [-1.56832452e+00, -1.37290414e+00, -4.83483830e-01,\n",
       "        -4.74526647e-01, -1.28715705e-01, -5.68463349e-01,\n",
       "         7.45211249e-01, -2.99659671e-01,  6.13423720e-01],\n",
       "       [ 8.24490604e-01, -8.56632883e-01,  1.34758259e+00,\n",
       "         1.96981962e+00,  4.79363342e-02,  1.91294887e+00,\n",
       "        -1.34190138e+00, -2.99659671e-01,  6.13423720e-01],\n",
       "       [ 8.24490604e-01, -1.37290414e+00, -4.83483830e-01,\n",
       "        -4.74526647e-01, -5.19562001e-01, -5.68463349e-01,\n",
       "         7.45211249e-01, -2.99659671e-01, -1.63019454e+00],\n",
       "       [ 8.24490604e-01,  6.11826919e-02, -4.83483830e-01,\n",
       "        -4.74526647e-01, -5.19649804e-01, -5.68463349e-01,\n",
       "         7.45211249e-01, -2.99659671e-01, -1.63019454e+00],\n",
       "       [ 8.24490604e-01, -2.82998149e-01, -4.83483830e-01,\n",
       "        -4.74526647e-01, -5.10764939e-01, -5.68463349e-01,\n",
       "         7.45211249e-01, -2.99659671e-01,  6.13423720e-01],\n",
       "       [ 8.24490604e-01,  3.48000059e-01, -4.83483830e-01,\n",
       "        -4.74526647e-01, -4.89598052e-01, -5.68463349e-01,\n",
       "        -1.34190138e+00, -2.99659671e-01,  6.13423720e-01],\n",
       "       [-1.56832452e+00,  5.20090479e-01, -4.83483830e-01,\n",
       "        -4.74526647e-01,  1.13763900e+00, -5.68463349e-01,\n",
       "        -1.34190138e+00, -2.99659671e-01,  6.13423720e-01],\n",
       "       [ 8.24490604e-01,  5.77453953e-01, -4.83483830e-01,\n",
       "        -4.74526647e-01, -5.34894144e-01, -5.68463349e-01,\n",
       "         7.45211249e-01, -2.99659671e-01,  6.13423720e-01],\n",
       "       [ 8.24490604e-01,  6.11826919e-02, -4.83483830e-01,\n",
       "        -4.74526647e-01, -5.23308279e-01, -5.68463349e-01,\n",
       "         7.45211249e-01, -2.99659671e-01,  6.13423720e-01],\n",
       "       [-3.71916957e-01,  1.60999647e+00, -4.83483830e-01,\n",
       "        -4.74526647e-01, -3.88467373e-01, -5.68463349e-01,\n",
       "         7.45211249e-01, -2.99659671e-01,  6.13423720e-01],\n",
       "       [-1.56832452e+00,  1.72472342e+00, -4.83483830e-01,\n",
       "        -4.74526647e-01,  4.13522434e-01, -5.68463349e-01,\n",
       "         7.45211249e-01, -2.99659671e-01,  6.13423720e-01],\n",
       "       [ 8.24490604e-01, -1.37290414e+00,  6.84078185e+00,\n",
       "         1.96981962e+00,  7.83289646e-01,  5.63506721e+00,\n",
       "         7.45211249e-01, -2.99659671e-01,  6.13423720e-01],\n",
       "       [-1.56832452e+00, -1.37290414e+00, -4.83483830e-01,\n",
       "        -4.74526647e-01,  9.85028366e-01, -5.68463349e-01,\n",
       "        -1.34190138e+00, -2.99659671e-01, -1.63019454e+00],\n",
       "       [ 8.24490604e-01, -1.37290414e+00, -4.83483830e-01,\n",
       "        -4.74526647e-01, -5.08674382e-01, -5.68463349e-01,\n",
       "         7.45211249e-01,  3.33711906e+00, -1.63019454e+00],\n",
       "       [ 8.24490604e-01,  2.90636586e-01, -4.83483830e-01,\n",
       "        -4.74526647e-01, -5.02402712e-01, -5.68463349e-01,\n",
       "         7.45211249e-01, -2.99659671e-01,  6.13423720e-01],\n",
       "       [-3.71916957e-01,  4.91408743e-01, -4.83483830e-01,\n",
       "        -4.74526647e-01, -3.98920156e-01, -5.68463349e-01,\n",
       "        -1.34190138e+00, -2.99659671e-01,  6.13423720e-01],\n",
       "       [ 8.24490604e-01, -1.10907728e-01, -4.83483830e-01,\n",
       "        -4.74526647e-01, -5.19127165e-01, -5.68463349e-01,\n",
       "         7.45211249e-01, -2.99659671e-01,  6.13423720e-01],\n",
       "       [-3.71916957e-01,  1.03636174e+00, -4.83483830e-01,\n",
       "        -4.74526647e-01, -3.98920156e-01, -5.68463349e-01,\n",
       "         7.45211249e-01, -2.99659671e-01,  6.13423720e-01],\n",
       "       [-3.71916957e-01, -1.31554067e+00, -4.83483830e-01,\n",
       "         1.96981962e+00,  1.02901250e-01,  6.72242762e-01,\n",
       "         7.45211249e-01, -2.99659671e-01, -1.63019454e+00],\n",
       "       [ 8.24490604e-01,  6.34817426e-01, -4.83483830e-01,\n",
       "        -4.74526647e-01, -5.05626350e-01, -5.68463349e-01,\n",
       "         7.45211249e-01, -2.99659671e-01, -1.63019454e+00],\n",
       "       [ 8.24490604e-01,  3.76681796e-01, -4.83483830e-01,\n",
       "        -4.74526647e-01, -5.08674382e-01, -5.68463349e-01,\n",
       "        -1.34190138e+00,  3.33711906e+00, -1.63019454e+00]])"
      ]
     },
     "execution_count": 20,
     "metadata": {},
     "output_type": "execute_result"
    }
   ],
   "source": [
    "scaler = StandardScaler()\n",
    "scaler.fit_transform(X_train, y_train)\n",
    "scaler.transform(X_test)"
   ]
  },
  {
   "cell_type": "markdown",
   "metadata": {},
   "source": [
    "### Logistic Regression"
   ]
  },
  {
   "cell_type": "code",
   "execution_count": 21,
   "metadata": {},
   "outputs": [],
   "source": [
    "from sklearn.linear_model import LogisticRegression"
   ]
  },
  {
   "cell_type": "code",
   "execution_count": 22,
   "metadata": {},
   "outputs": [],
   "source": [
    "LR = LogisticRegression(max_iter = 10000)"
   ]
  },
  {
   "cell_type": "code",
   "execution_count": 23,
   "metadata": {},
   "outputs": [
    {
     "data": {
      "text/plain": [
       "LogisticRegression(max_iter=10000)"
      ]
     },
     "execution_count": 23,
     "metadata": {},
     "output_type": "execute_result"
    }
   ],
   "source": [
    "LR.fit(X_train , y_train)"
   ]
  },
  {
   "cell_type": "code",
   "execution_count": 24,
   "metadata": {},
   "outputs": [],
   "source": [
    "y_pred = LR.predict(X_test)"
   ]
  },
  {
   "cell_type": "code",
   "execution_count": 25,
   "metadata": {},
   "outputs": [],
   "source": [
    "from sklearn.metrics import plot_confusion_matrix, classification_report"
   ]
  },
  {
   "cell_type": "code",
   "execution_count": 26,
   "metadata": {},
   "outputs": [
    {
     "name": "stderr",
     "output_type": "stream",
     "text": [
      "c:\\users\\user\\appdata\\local\\programs\\python\\python39\\lib\\site-packages\\sklearn\\utils\\deprecation.py:87: FutureWarning: Function plot_confusion_matrix is deprecated; Function `plot_confusion_matrix` is deprecated in 1.0 and will be removed in 1.2. Use one of the class methods: ConfusionMatrixDisplay.from_predictions or ConfusionMatrixDisplay.from_estimator.\n",
      "  warnings.warn(msg, category=FutureWarning)\n"
     ]
    },
    {
     "data": {
      "text/plain": [
       "<sklearn.metrics._plot.confusion_matrix.ConfusionMatrixDisplay at 0x26e5f5705e0>"
      ]
     },
     "execution_count": 26,
     "metadata": {},
     "output_type": "execute_result"
    },
    {
     "data": {
      "image/png": "[encoded data removed]",
      "text/plain": [
       "<Figure size 432x288 with 2 Axes>"
      ]
     },
     "metadata": {
      "needs_background": "light"
     },
     "output_type": "display_data"
    }
   ],
   "source": [
    "plot_confusion_matrix(LR,X_test,y_test)"
   ]
  },
  {
   "cell_type": "code",
   "execution_count": 27,
   "metadata": {},
   "outputs": [
    {
     "name": "stdout",
     "output_type": "stream",
     "text": [
      "              precision    recall  f1-score   support\n",
      "\n",
      "           0       0.79      0.88      0.83        51\n",
      "           1       0.82      0.69      0.75        39\n",
      "\n",
      "    accuracy                           0.80        90\n",
      "   macro avg       0.80      0.79      0.79        90\n",
      "weighted avg       0.80      0.80      0.80        90\n",
      "\n"
     ]
    }
   ],
   "source": [
    "print(classification_report(y_test,y_pred))"
   ]
  },
  {
   "cell_type": "markdown",
   "metadata": {},
   "source": [
    "### Support Vector Machine"
   ]
  },
  {
   "cell_type": "code",
   "execution_count": 28,
   "metadata": {},
   "outputs": [],
   "source": [
    "from sklearn.svm import SVC"
   ]
  },
  {
   "cell_type": "code",
   "execution_count": 29,
   "metadata": {},
   "outputs": [],
   "source": [
    "SVC = SVC(max_iter = 100000, C=10)"
   ]
  },
  {
   "cell_type": "code",
   "execution_count": 30,
   "metadata": {},
   "outputs": [
    {
     "data": {
      "text/plain": [
       "SVC(C=10, max_iter=100000)"
      ]
     },
     "execution_count": 30,
     "metadata": {},
     "output_type": "execute_result"
    }
   ],
   "source": [
    "SVC.fit(X_train, y_train)"
   ]
  },
  {
   "cell_type": "code",
   "execution_count": 31,
   "metadata": {},
   "outputs": [],
   "source": [
    "y_pred = SVC.predict(X_test)"
   ]
  },
  {
   "cell_type": "code",
   "execution_count": 32,
   "metadata": {},
   "outputs": [
    {
     "name": "stderr",
     "output_type": "stream",
     "text": [
      "c:\\users\\user\\appdata\\local\\programs\\python\\python39\\lib\\site-packages\\sklearn\\utils\\deprecation.py:87: FutureWarning: Function plot_confusion_matrix is deprecated; Function `plot_confusion_matrix` is deprecated in 1.0 and will be removed in 1.2. Use one of the class methods: ConfusionMatrixDisplay.from_predictions or ConfusionMatrixDisplay.from_estimator.\n",
      "  warnings.warn(msg, category=FutureWarning)\n"
     ]
    },
    {
     "data": {
      "text/plain": [
       "<sklearn.metrics._plot.confusion_matrix.ConfusionMatrixDisplay at 0x26e602fb400>"
      ]
     },
     "execution_count": 32,
     "metadata": {},
     "output_type": "execute_result"
    },
    {
     "data": {
      "image/png": "[encoded data removed]",
      "text/plain": [
       "<Figure size 432x288 with 2 Axes>"
      ]
     },
     "metadata": {
      "needs_background": "light"
     },
     "output_type": "display_data"
    }
   ],
   "source": [
    "plot_confusion_matrix(SVC, X_test, y_test)"
   ]
  },
  {
   "cell_type": "code",
   "execution_count": 33,
   "metadata": {},
   "outputs": [
    {
     "name": "stdout",
     "output_type": "stream",
     "text": [
      "              precision    recall  f1-score   support\n",
      "\n",
      "           0       0.64      0.96      0.77        51\n",
      "           1       0.85      0.28      0.42        39\n",
      "\n",
      "    accuracy                           0.67        90\n",
      "   macro avg       0.74      0.62      0.59        90\n",
      "weighted avg       0.73      0.67      0.62        90\n",
      "\n"
     ]
    }
   ],
   "source": [
    "print(classification_report(y_test, y_pred))"
   ]
  },
  {
   "cell_type": "code",
   "execution_count": 34,
   "metadata": {},
   "outputs": [],
   "source": [
    "from sklearn.ensemble import RandomForestClassifier"
   ]
  },
  {
   "cell_type": "code",
   "execution_count": 35,
   "metadata": {},
   "outputs": [],
   "source": [
    "RFC = RandomForestClassifier(n_estimators=100, max_depth = 10)"
   ]
  },
  {
   "cell_type": "code",
   "execution_count": 36,
   "metadata": {},
   "outputs": [
    {
     "data": {
      "text/plain": [
       "RandomForestClassifier(max_depth=10)"
      ]
     },
     "execution_count": 36,
     "metadata": {},
     "output_type": "execute_result"
    }
   ],
   "source": [
    "RFC.fit(X_train, y_train)"
   ]
  },
  {
   "cell_type": "code",
   "execution_count": 37,
   "metadata": {},
   "outputs": [],
   "source": [
    "y_pred = RFC.predict(X_test)"
   ]
  },
  {
   "cell_type": "code",
   "execution_count": 38,
   "metadata": {},
   "outputs": [
    {
     "name": "stderr",
     "output_type": "stream",
     "text": [
      "c:\\users\\user\\appdata\\local\\programs\\python\\python39\\lib\\site-packages\\sklearn\\utils\\deprecation.py:87: FutureWarning: Function plot_confusion_matrix is deprecated; Function `plot_confusion_matrix` is deprecated in 1.0 and will be removed in 1.2. Use one of the class methods: ConfusionMatrixDisplay.from_predictions or ConfusionMatrixDisplay.from_estimator.\n",
      "  warnings.warn(msg, category=FutureWarning)\n"
     ]
    },
    {
     "data": {
      "text/plain": [
       "<sklearn.metrics._plot.confusion_matrix.ConfusionMatrixDisplay at 0x26e605f0af0>"
      ]
     },
     "execution_count": 38,
     "metadata": {},
     "output_type": "execute_result"
    },
    {
     "data": {
      "image/png": "[encoded data removed]",
      "text/plain": [
       "<Figure size 432x288 with 2 Axes>"
      ]
     },
     "metadata": {
      "needs_background": "light"
     },
     "output_type": "display_data"
    }
   ],
   "source": [
    "plot_confusion_matrix(RFC, X_test, y_test)"
   ]
  },
  {
   "cell_type": "code",
   "execution_count": 39,
   "metadata": {},
   "outputs": [
    {
     "name": "stdout",
     "output_type": "stream",
     "text": [
      "              precision    recall  f1-score   support\n",
      "\n",
      "           0       0.78      0.92      0.85        51\n",
      "           1       0.87      0.67      0.75        39\n",
      "\n",
      "    accuracy                           0.81        90\n",
      "   macro avg       0.82      0.79      0.80        90\n",
      "weighted avg       0.82      0.81      0.81        90\n",
      "\n"
     ]
    }
   ],
   "source": [
    "print(classification_report(y_test, y_pred))"
   ]
  },
  {
   "cell_type": "code",
   "execution_count": null,
   "metadata": {},
   "outputs": [],
   "source": []
  },
  {
   "cell_type": "code",
   "execution_count": 40,
   "metadata": {},
   "outputs": [
    {
     "data": {
      "text/plain": [
       "RandomForestClassifier(max_depth=10)"
      ]
     },
     "execution_count": 40,
     "metadata": {},
     "output_type": "execute_result"
    }
   ],
   "source": [
    "RFC.fit(X,y)"
   ]
  },
  {
   "cell_type": "code",
   "execution_count": 41,
   "metadata": {},
   "outputs": [],
   "source": [
    "submission = pd.read_csv(\"Data/gender_submission.csv\")"
   ]
  },
  {
   "cell_type": "code",
   "execution_count": 42,
   "metadata": {},
   "outputs": [
    {
     "data": {
      "text/html": [
       "<div>\n",
       "<style scoped>\n",
       "    .dataframe tbody tr th:only-of-type {\n",
       "        vertical-align: middle;\n",
       "    }\n",
       "\n",
       "    .dataframe tbody tr th {\n",
       "        vertical-align: top;\n",
       "    }\n",
       "\n",
       "    .dataframe thead th {\n",
       "        text-align: right;\n",
       "    }\n",
       "</style>\n",
       "<table border=\"1\" class=\"dataframe\">\n",
       "  <thead>\n",
       "    <tr style=\"text-align: right;\">\n",
       "      <th></th>\n",
       "      <th>Pclass</th>\n",
       "      <th>Sex</th>\n",
       "      <th>Age</th>\n",
       "      <th>SibSp</th>\n",
       "      <th>Parch</th>\n",
       "      <th>Fare</th>\n",
       "      <th>Embarked</th>\n",
       "      <th>Family</th>\n",
       "    </tr>\n",
       "  </thead>\n",
       "  <tbody>\n",
       "    <tr>\n",
       "      <th>0</th>\n",
       "      <td>3</td>\n",
       "      <td>male</td>\n",
       "      <td>34.5</td>\n",
       "      <td>0</td>\n",
       "      <td>0</td>\n",
       "      <td>7.8292</td>\n",
       "      <td>Q</td>\n",
       "      <td>0</td>\n",
       "    </tr>\n",
       "    <tr>\n",
       "      <th>1</th>\n",
       "      <td>3</td>\n",
       "      <td>female</td>\n",
       "      <td>47.0</td>\n",
       "      <td>1</td>\n",
       "      <td>0</td>\n",
       "      <td>7.0000</td>\n",
       "      <td>S</td>\n",
       "      <td>1</td>\n",
       "    </tr>\n",
       "    <tr>\n",
       "      <th>2</th>\n",
       "      <td>2</td>\n",
       "      <td>male</td>\n",
       "      <td>62.0</td>\n",
       "      <td>0</td>\n",
       "      <td>0</td>\n",
       "      <td>9.6875</td>\n",
       "      <td>Q</td>\n",
       "      <td>0</td>\n",
       "    </tr>\n",
       "    <tr>\n",
       "      <th>3</th>\n",
       "      <td>3</td>\n",
       "      <td>male</td>\n",
       "      <td>27.0</td>\n",
       "      <td>0</td>\n",
       "      <td>0</td>\n",
       "      <td>8.6625</td>\n",
       "      <td>S</td>\n",
       "      <td>0</td>\n",
       "    </tr>\n",
       "    <tr>\n",
       "      <th>4</th>\n",
       "      <td>3</td>\n",
       "      <td>female</td>\n",
       "      <td>22.0</td>\n",
       "      <td>1</td>\n",
       "      <td>1</td>\n",
       "      <td>12.2875</td>\n",
       "      <td>S</td>\n",
       "      <td>2</td>\n",
       "    </tr>\n",
       "    <tr>\n",
       "      <th>...</th>\n",
       "      <td>...</td>\n",
       "      <td>...</td>\n",
       "      <td>...</td>\n",
       "      <td>...</td>\n",
       "      <td>...</td>\n",
       "      <td>...</td>\n",
       "      <td>...</td>\n",
       "      <td>...</td>\n",
       "    </tr>\n",
       "    <tr>\n",
       "      <th>413</th>\n",
       "      <td>3</td>\n",
       "      <td>male</td>\n",
       "      <td>NaN</td>\n",
       "      <td>0</td>\n",
       "      <td>0</td>\n",
       "      <td>8.0500</td>\n",
       "      <td>S</td>\n",
       "      <td>0</td>\n",
       "    </tr>\n",
       "    <tr>\n",
       "      <th>414</th>\n",
       "      <td>1</td>\n",
       "      <td>female</td>\n",
       "      <td>39.0</td>\n",
       "      <td>0</td>\n",
       "      <td>0</td>\n",
       "      <td>108.9000</td>\n",
       "      <td>C</td>\n",
       "      <td>0</td>\n",
       "    </tr>\n",
       "    <tr>\n",
       "      <th>415</th>\n",
       "      <td>3</td>\n",
       "      <td>male</td>\n",
       "      <td>38.5</td>\n",
       "      <td>0</td>\n",
       "      <td>0</td>\n",
       "      <td>7.2500</td>\n",
       "      <td>S</td>\n",
       "      <td>0</td>\n",
       "    </tr>\n",
       "    <tr>\n",
       "      <th>416</th>\n",
       "      <td>3</td>\n",
       "      <td>male</td>\n",
       "      <td>NaN</td>\n",
       "      <td>0</td>\n",
       "      <td>0</td>\n",
       "      <td>8.0500</td>\n",
       "      <td>S</td>\n",
       "      <td>0</td>\n",
       "    </tr>\n",
       "    <tr>\n",
       "      <th>417</th>\n",
       "      <td>3</td>\n",
       "      <td>male</td>\n",
       "      <td>NaN</td>\n",
       "      <td>1</td>\n",
       "      <td>1</td>\n",
       "      <td>22.3583</td>\n",
       "      <td>C</td>\n",
       "      <td>2</td>\n",
       "    </tr>\n",
       "  </tbody>\n",
       "</table>\n",
       "<p>418 rows × 8 columns</p>\n",
       "</div>"
      ],
      "text/plain": [
       "     Pclass     Sex   Age  SibSp  Parch      Fare Embarked  Family\n",
       "0         3    male  34.5      0      0    7.8292        Q       0\n",
       "1         3  female  47.0      1      0    7.0000        S       1\n",
       "2         2    male  62.0      0      0    9.6875        Q       0\n",
       "3         3    male  27.0      0      0    8.6625        S       0\n",
       "4         3  female  22.0      1      1   12.2875        S       2\n",
       "..      ...     ...   ...    ...    ...       ...      ...     ...\n",
       "413       3    male   NaN      0      0    8.0500        S       0\n",
       "414       1  female  39.0      0      0  108.9000        C       0\n",
       "415       3    male  38.5      0      0    7.2500        S       0\n",
       "416       3    male   NaN      0      0    8.0500        S       0\n",
       "417       3    male   NaN      1      1   22.3583        C       2\n",
       "\n",
       "[418 rows x 8 columns]"
      ]
     },
     "execution_count": 42,
     "metadata": {},
     "output_type": "execute_result"
    }
   ],
   "source": [
    "test"
   ]
  },
  {
   "cell_type": "code",
   "execution_count": 43,
   "metadata": {},
   "outputs": [],
   "source": [
    "test = pd.get_dummies(test, drop_first = True)\n"
   ]
  },
  {
   "cell_type": "code",
   "execution_count": 58,
   "metadata": {},
   "outputs": [],
   "source": [
    "sub = RFC.predict(test)"
   ]
  },
  {
   "cell_type": "code",
   "execution_count": 60,
   "metadata": {},
   "outputs": [],
   "source": [
    "submission = pd.DataFrame({\"PassengerId\" : df_test[\"PassengerId\"], 'Survived':sub})"
   ]
  },
  {
   "cell_type": "code",
   "execution_count": 61,
   "metadata": {},
   "outputs": [],
   "source": [
    "submission.to_csv(\"submission.csv\",index=False)"
   ]
  },
  {
   "cell_type": "code",
   "execution_count": null,
   "metadata": {},
   "outputs": [],
   "source": []
  },
  {
   "cell_type": "code",
   "execution_count": null,
   "metadata": {},
   "outputs": [],
   "source": []
  }
 ],
 "metadata": {
  "kernelspec": {
   "display_name": "Python 3",
   "language": "python",
   "name": "python3"
  },
  "language_info": {
   "codemirror_mode": {
    "name": "ipython",
    "version": 3
   },
   "file_extension": ".py",
   "mimetype": "text/x-python",
   "name": "python",
   "nbconvert_exporter": "python",
   "pygments_lexer": "ipython3",
   "version": "3.9.5"
  }
 },
 "nbformat": 4,
 "nbformat_minor": 4
}
