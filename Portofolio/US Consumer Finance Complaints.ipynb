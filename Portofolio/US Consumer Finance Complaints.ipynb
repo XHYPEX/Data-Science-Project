{
 "cells": [
  {
   "cell_type": "code",
   "execution_count": 1,
   "id": "cc843fac",
   "metadata": {},
   "outputs": [],
   "source": [
    "import numpy as np\n",
    "import pandas as pd\n",
    "import matplotlib.pyplot as plt \n",
    "import seaborn as sns\n",
    "import sqlite3"
   ]
  },
  {
   "cell_type": "code",
   "execution_count": 2,
   "id": "790508bc",
   "metadata": {},
   "outputs": [],
   "source": [
    "database = \"Data/database.sqlite\"\n",
    "con = sqlite3.connect(database)\n",
    "df = pd.read_sql(\"select * from consumer_complaints\", con)"
   ]
  },
  {
   "cell_type": "code",
   "execution_count": 3,
   "id": "40bd4eca",
   "metadata": {},
   "outputs": [
    {
     "name": "stdout",
     "output_type": "stream",
     "text": [
      "<class 'pandas.core.frame.DataFrame'>\n",
      "RangeIndex: 555957 entries, 0 to 555956\n",
      "Data columns (total 18 columns):\n",
      " #   Column                        Non-Null Count   Dtype \n",
      "---  ------                        --------------   ----- \n",
      " 0   date_received                 555957 non-null  object\n",
      " 1   product                       555957 non-null  object\n",
      " 2   sub_product                   397635 non-null  object\n",
      " 3   issue                         555957 non-null  object\n",
      " 4   sub_issue                     212622 non-null  object\n",
      " 5   consumer_complaint_narrative  66806 non-null   object\n",
      " 6   company_public_response       85124 non-null   object\n",
      " 7   company                       555957 non-null  object\n",
      " 8   state                         551070 non-null  object\n",
      " 9   zipcode                       551452 non-null  object\n",
      " 10  tags                          77959 non-null   object\n",
      " 11  consumer_consent_provided     123458 non-null  object\n",
      " 12  submitted_via                 555957 non-null  object\n",
      " 13  date_sent_to_company          555957 non-null  object\n",
      " 14  company_response_to_consumer  555957 non-null  object\n",
      " 15  timely_response               555957 non-null  object\n",
      " 16  consumer_disputed?            555957 non-null  object\n",
      " 17  complaint_id                  555957 non-null  int64 \n",
      "dtypes: int64(1), object(17)\n",
      "memory usage: 76.3+ MB\n"
     ]
    }
   ],
   "source": [
    "df.info()"
   ]
  },
  {
   "cell_type": "code",
   "execution_count": 4,
   "id": "5a52f57f",
   "metadata": {},
   "outputs": [],
   "source": [
    "data = df[['product', 'consumer_complaint_narrative']]"
   ]
  },
  {
   "cell_type": "code",
   "execution_count": 5,
   "id": "7246943e",
   "metadata": {},
   "outputs": [],
   "source": [
    "data = data.dropna()"
   ]
  },
  {
   "cell_type": "code",
   "execution_count": 6,
   "id": "06d248a8",
   "metadata": {},
   "outputs": [
    {
     "data": {
      "text/html": [
       "<div>\n",
       "<style scoped>\n",
       "    .dataframe tbody tr th:only-of-type {\n",
       "        vertical-align: middle;\n",
       "    }\n",
       "\n",
       "    .dataframe tbody tr th {\n",
       "        vertical-align: top;\n",
       "    }\n",
       "\n",
       "    .dataframe thead th {\n",
       "        text-align: right;\n",
       "    }\n",
       "</style>\n",
       "<table border=\"1\" class=\"dataframe\">\n",
       "  <thead>\n",
       "    <tr style=\"text-align: right;\">\n",
       "      <th></th>\n",
       "      <th>product</th>\n",
       "      <th>consumer_complaint_narrative</th>\n",
       "    </tr>\n",
       "  </thead>\n",
       "  <tbody>\n",
       "    <tr>\n",
       "      <th>190126</th>\n",
       "      <td>Debt collection</td>\n",
       "      <td>XXXX has claimed I owe them {$27.00} for XXXX ...</td>\n",
       "    </tr>\n",
       "    <tr>\n",
       "      <th>190135</th>\n",
       "      <td>Consumer Loan</td>\n",
       "      <td>Due to inconsistencies in the amount owed that...</td>\n",
       "    </tr>\n",
       "    <tr>\n",
       "      <th>190155</th>\n",
       "      <td>Mortgage</td>\n",
       "      <td>In XX/XX/XXXX my wages that I earned at my job...</td>\n",
       "    </tr>\n",
       "    <tr>\n",
       "      <th>190207</th>\n",
       "      <td>Mortgage</td>\n",
       "      <td>I have an open and current mortgage with Chase...</td>\n",
       "    </tr>\n",
       "    <tr>\n",
       "      <th>190208</th>\n",
       "      <td>Mortgage</td>\n",
       "      <td>XXXX was submitted XX/XX/XXXX. At the time I s...</td>\n",
       "    </tr>\n",
       "    <tr>\n",
       "      <th>...</th>\n",
       "      <td>...</td>\n",
       "      <td>...</td>\n",
       "    </tr>\n",
       "    <tr>\n",
       "      <th>553084</th>\n",
       "      <td>Credit reporting</td>\n",
       "      <td>XXXX XXXX is reporting incorrectly, payments h...</td>\n",
       "    </tr>\n",
       "    <tr>\n",
       "      <th>553085</th>\n",
       "      <td>Credit reporting</td>\n",
       "      <td>Reflecting incorrect payment status. Have been...</td>\n",
       "    </tr>\n",
       "    <tr>\n",
       "      <th>553086</th>\n",
       "      <td>Payday loan</td>\n",
       "      <td>I have been paying {$180.00} a month through d...</td>\n",
       "    </tr>\n",
       "    <tr>\n",
       "      <th>553090</th>\n",
       "      <td>Mortgage</td>\n",
       "      <td>I recently became aware that Amerisave Mortgag...</td>\n",
       "    </tr>\n",
       "    <tr>\n",
       "      <th>553096</th>\n",
       "      <td>Mortgage</td>\n",
       "      <td>Bank of America has demonstrated an on-going l...</td>\n",
       "    </tr>\n",
       "  </tbody>\n",
       "</table>\n",
       "<p>66806 rows × 2 columns</p>\n",
       "</div>"
      ],
      "text/plain": [
       "                 product                       consumer_complaint_narrative\n",
       "190126   Debt collection  XXXX has claimed I owe them {$27.00} for XXXX ...\n",
       "190135     Consumer Loan  Due to inconsistencies in the amount owed that...\n",
       "190155          Mortgage  In XX/XX/XXXX my wages that I earned at my job...\n",
       "190207          Mortgage  I have an open and current mortgage with Chase...\n",
       "190208          Mortgage  XXXX was submitted XX/XX/XXXX. At the time I s...\n",
       "...                  ...                                                ...\n",
       "553084  Credit reporting  XXXX XXXX is reporting incorrectly, payments h...\n",
       "553085  Credit reporting  Reflecting incorrect payment status. Have been...\n",
       "553086       Payday loan  I have been paying {$180.00} a month through d...\n",
       "553090          Mortgage  I recently became aware that Amerisave Mortgag...\n",
       "553096          Mortgage  Bank of America has demonstrated an on-going l...\n",
       "\n",
       "[66806 rows x 2 columns]"
      ]
     },
     "execution_count": 6,
     "metadata": {},
     "output_type": "execute_result"
    }
   ],
   "source": [
    "data"
   ]
  },
  {
   "cell_type": "code",
   "execution_count": 7,
   "id": "a52fa056",
   "metadata": {},
   "outputs": [
    {
     "data": {
      "image/png": "[encoded data removed]",
      "text/plain": [
       "<Figure size 864x576 with 1 Axes>"
      ]
     },
     "metadata": {
      "needs_background": "light"
     },
     "output_type": "display_data"
    }
   ],
   "source": [
    "plt.figure(figsize=(12,8))\n",
    "sns.countplot(x=data['product'])\n",
    "plt.xticks(rotation=90);"
   ]
  },
  {
   "cell_type": "code",
   "execution_count": 8,
   "id": "6cb598f3",
   "metadata": {},
   "outputs": [],
   "source": [
    "category = pd.DataFrame()\n",
    "category['product'] = data[\"product\"]\n",
    "category['category'] = data[\"product\"].factorize()[0]"
   ]
  },
  {
   "cell_type": "code",
   "execution_count": 9,
   "id": "2e4cf82e",
   "metadata": {},
   "outputs": [],
   "source": [
    "category['narrative'] = data['consumer_complaint_narrative'].str.replace(\"X\",\" \")"
   ]
  },
  {
   "cell_type": "code",
   "execution_count": 10,
   "id": "8661a3e9",
   "metadata": {},
   "outputs": [],
   "source": [
    "cat_id = category.drop_duplicates().sort_values(\"category\")"
   ]
  },
  {
   "cell_type": "code",
   "execution_count": 11,
   "id": "3cf99863",
   "metadata": {},
   "outputs": [
    {
     "data": {
      "text/html": [
       "<div>\n",
       "<style scoped>\n",
       "    .dataframe tbody tr th:only-of-type {\n",
       "        vertical-align: middle;\n",
       "    }\n",
       "\n",
       "    .dataframe tbody tr th {\n",
       "        vertical-align: top;\n",
       "    }\n",
       "\n",
       "    .dataframe thead th {\n",
       "        text-align: right;\n",
       "    }\n",
       "</style>\n",
       "<table border=\"1\" class=\"dataframe\">\n",
       "  <thead>\n",
       "    <tr style=\"text-align: right;\">\n",
       "      <th></th>\n",
       "      <th>product</th>\n",
       "      <th>category</th>\n",
       "      <th>narrative</th>\n",
       "    </tr>\n",
       "  </thead>\n",
       "  <tbody>\n",
       "    <tr>\n",
       "      <th>190126</th>\n",
       "      <td>Debt collection</td>\n",
       "      <td>0</td>\n",
       "      <td>has claimed I owe them {$27.00} for      ...</td>\n",
       "    </tr>\n",
       "    <tr>\n",
       "      <th>281327</th>\n",
       "      <td>Debt collection</td>\n",
       "      <td>0</td>\n",
       "      <td>HELLO, I HAVE NEVER HEARD FROM THIS COMPANY, N...</td>\n",
       "    </tr>\n",
       "    <tr>\n",
       "      <th>281317</th>\n",
       "      <td>Debt collection</td>\n",
       "      <td>0</td>\n",
       "      <td>My husband and I relocated to      from      i...</td>\n",
       "    </tr>\n",
       "    <tr>\n",
       "      <th>281283</th>\n",
       "      <td>Debt collection</td>\n",
       "      <td>0</td>\n",
       "      <td>I am &amp; have been paying for      years a month...</td>\n",
       "    </tr>\n",
       "    <tr>\n",
       "      <th>281282</th>\n",
       "      <td>Debt collection</td>\n",
       "      <td>0</td>\n",
       "      <td>I filed a TILA complaint in Fl. state court in...</td>\n",
       "    </tr>\n",
       "    <tr>\n",
       "      <th>...</th>\n",
       "      <td>...</td>\n",
       "      <td>...</td>\n",
       "      <td>...</td>\n",
       "    </tr>\n",
       "    <tr>\n",
       "      <th>517339</th>\n",
       "      <td>Prepaid card</td>\n",
       "      <td>10</td>\n",
       "      <td>On           was the last day I could use my c...</td>\n",
       "    </tr>\n",
       "    <tr>\n",
       "      <th>521286</th>\n",
       "      <td>Prepaid card</td>\n",
       "      <td>10</td>\n",
       "      <td>I am a customer with rush card / meta bank and...</td>\n",
       "    </tr>\n",
       "    <tr>\n",
       "      <th>513742</th>\n",
       "      <td>Prepaid card</td>\n",
       "      <td>10</td>\n",
       "      <td>Hello, I am an unfortunate customer of Rushcar...</td>\n",
       "    </tr>\n",
       "    <tr>\n",
       "      <th>517358</th>\n",
       "      <td>Prepaid card</td>\n",
       "      <td>10</td>\n",
       "      <td>I ordered a replacement card from the rush car...</td>\n",
       "    </tr>\n",
       "    <tr>\n",
       "      <th>203434</th>\n",
       "      <td>Prepaid card</td>\n",
       "      <td>10</td>\n",
       "      <td>My paypal account was permanently limited by P...</td>\n",
       "    </tr>\n",
       "  </tbody>\n",
       "</table>\n",
       "<p>65665 rows × 3 columns</p>\n",
       "</div>"
      ],
      "text/plain": [
       "                product  category  \\\n",
       "190126  Debt collection         0   \n",
       "281327  Debt collection         0   \n",
       "281317  Debt collection         0   \n",
       "281283  Debt collection         0   \n",
       "281282  Debt collection         0   \n",
       "...                 ...       ...   \n",
       "517339     Prepaid card        10   \n",
       "521286     Prepaid card        10   \n",
       "513742     Prepaid card        10   \n",
       "517358     Prepaid card        10   \n",
       "203434     Prepaid card        10   \n",
       "\n",
       "                                                narrative  \n",
       "190126       has claimed I owe them {$27.00} for      ...  \n",
       "281327  HELLO, I HAVE NEVER HEARD FROM THIS COMPANY, N...  \n",
       "281317  My husband and I relocated to      from      i...  \n",
       "281283  I am & have been paying for      years a month...  \n",
       "281282  I filed a TILA complaint in Fl. state court in...  \n",
       "...                                                   ...  \n",
       "517339  On           was the last day I could use my c...  \n",
       "521286  I am a customer with rush card / meta bank and...  \n",
       "513742  Hello, I am an unfortunate customer of Rushcar...  \n",
       "517358  I ordered a replacement card from the rush car...  \n",
       "203434  My paypal account was permanently limited by P...  \n",
       "\n",
       "[65665 rows x 3 columns]"
      ]
     },
     "execution_count": 11,
     "metadata": {},
     "output_type": "execute_result"
    }
   ],
   "source": [
    "cat_id"
   ]
  },
  {
   "cell_type": "code",
   "execution_count": 12,
   "id": "e16df6dd",
   "metadata": {},
   "outputs": [],
   "source": [
    "from tensorflow.keras.preprocessing.text import Tokenizer"
   ]
  },
  {
   "cell_type": "code",
   "execution_count": 13,
   "id": "2ee317f4",
   "metadata": {},
   "outputs": [],
   "source": [
    "token = Tokenizer()\n",
    "token.fit_on_texts(data['consumer_complaint_narrative'])\n",
    "vocabs = token.index_word\n",
    "vocabs_len = len(token.word_index) + 1"
   ]
  },
  {
   "cell_type": "code",
   "execution_count": 14,
   "id": "bfd6120d",
   "metadata": {},
   "outputs": [],
   "source": [
    "text = token.texts_to_sequences(category['narrative'])"
   ]
  },
  {
   "cell_type": "code",
   "execution_count": 15,
   "id": "866886a0",
   "metadata": {},
   "outputs": [],
   "source": [
    "from tensorflow.keras.preprocessing.sequence import pad_sequences"
   ]
  },
  {
   "cell_type": "code",
   "execution_count": 16,
   "id": "b10a39c2",
   "metadata": {},
   "outputs": [],
   "source": [
    "X = pad_sequences(text)"
   ]
  },
  {
   "cell_type": "code",
   "execution_count": 17,
   "id": "978a65f4",
   "metadata": {},
   "outputs": [],
   "source": [
    "from sklearn.model_selection import train_test_split"
   ]
  },
  {
   "cell_type": "code",
   "execution_count": 18,
   "id": "a4e5dcb3",
   "metadata": {},
   "outputs": [],
   "source": [
    " X_train, X_test, y_train, y_test = train_test_split(X, category['category'], test_size=0.1, random_state=101)"
   ]
  },
  {
   "cell_type": "markdown",
   "id": "a702cf3d",
   "metadata": {},
   "source": [
    "Model Building"
   ]
  },
  {
   "cell_type": "code",
   "execution_count": 19,
   "id": "05578441",
   "metadata": {},
   "outputs": [],
   "source": [
    "from tensorflow.keras.models import Sequential\n",
    "from tensorflow.keras.layers import Dense, Flatten, Conv1D, MaxPooling1D, GlobalMaxPooling1D, Dropout, Embedding"
   ]
  },
  {
   "cell_type": "code",
   "execution_count": 20,
   "id": "79bd8481",
   "metadata": {},
   "outputs": [
    {
     "name": "stdout",
     "output_type": "stream",
     "text": [
      "Model: \"sequential\"\n",
      "_________________________________________________________________\n",
      " Layer (type)                Output Shape              Param #   \n",
      "=================================================================\n",
      " embedding (Embedding)       (None, None, 300)         16553400  \n",
      "                                                                 \n",
      " conv1d (Conv1D)             (None, None, 8)           153608    \n",
      "                                                                 \n",
      " max_pooling1d (MaxPooling1D  (None, None, 8)          0         \n",
      " )                                                               \n",
      "                                                                 \n",
      " dropout (Dropout)           (None, None, 8)           0         \n",
      "                                                                 \n",
      " dense (Dense)               (None, None, 32)          288       \n",
      "                                                                 \n",
      " dropout_1 (Dropout)         (None, None, 32)          0         \n",
      "                                                                 \n",
      " dense_1 (Dense)             (None, None, 16)          528       \n",
      "                                                                 \n",
      " global_max_pooling1d (Globa  (None, 16)               0         \n",
      " lMaxPooling1D)                                                  \n",
      "                                                                 \n",
      " dense_2 (Dense)             (None, 66806)             1135702   \n",
      "                                                                 \n",
      "=================================================================\n",
      "Total params: 17,843,526\n",
      "Trainable params: 17,843,526\n",
      "Non-trainable params: 0\n",
      "_________________________________________________________________\n"
     ]
    }
   ],
   "source": [
    "model = Sequential()\n",
    "model.add(Embedding(vocabs_len, 300)) \n",
    "model.add(Conv1D(kernel_size=64, filters=8, activation='relu'))\n",
    "\n",
    "model.add(MaxPooling1D(2))\n",
    "model.add(Dropout(0.5))\n",
    "\n",
    "model.add(Dense(32, activation='relu'))\n",
    "model.add(Dropout(0.5))\n",
    "\n",
    "model.add(Dense(16, activation='relu'))\n",
    "\n",
    "model.add(GlobalMaxPooling1D())\n",
    "\n",
    "model.add(Dense(len(category['category']), activation='softmax'))\n",
    "\n",
    "model.summary()"
   ]
  },
  {
   "cell_type": "code",
   "execution_count": 21,
   "id": "3c2154de",
   "metadata": {},
   "outputs": [],
   "source": [
    "model.compile(optimizer='adam', loss='sparse_categorical_crossentropy', metrics=['accuracy'])"
   ]
  },
  {
   "cell_type": "code",
   "execution_count": null,
   "id": "aa8ba38c",
   "metadata": {},
   "outputs": [
    {
     "name": "stdout",
     "output_type": "stream",
     "text": [
      "Epoch 1/5\n",
      "1879/1879 [==============================] - 1643s 873ms/step - loss: 1.5679 - accuracy: 0.4328 - val_loss: 2.5262 - val_accuracy: 0.7388\n",
      "Epoch 2/5\n",
      "1879/1879 [==============================] - 1615s 859ms/step - loss: 0.7688 - accuracy: 0.7635 - val_loss: 1.7177 - val_accuracy: 0.7821\n",
      "Epoch 3/5\n",
      " 883/1879 [=============>................] - ETA: 22:15 - loss: 0.6176 - accuracy: 0.8159"
     ]
    }
   ],
   "source": [
    "history = model.fit(X_train, y_train, epochs = 5, validation_data=(X_test, y_test))"
   ]
  },
  {
   "cell_type": "code",
   "execution_count": null,
   "id": "a94708e6",
   "metadata": {},
   "outputs": [],
   "source": []
  }
 ],
 "metadata": {
  "kernelspec": {
   "display_name": "Python 3 (ipykernel)",
   "language": "python",
   "name": "python3"
  },
  "language_info": {
   "codemirror_mode": {
    "name": "ipython",
    "version": 3
   },
   "file_extension": ".py",
   "mimetype": "text/x-python",
   "name": "python",
   "nbconvert_exporter": "python",
   "pygments_lexer": "ipython3",
   "version": "3.10.2"
  }
 },
 "nbformat": 4,
 "nbformat_minor": 5
}
